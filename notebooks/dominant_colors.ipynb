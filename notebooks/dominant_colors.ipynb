{
 "cells": [
  {
   "cell_type": "markdown",
   "metadata": {},
   "source": [
    "# Creative Design Component Extraction - Dominant Colors"
   ]
  },
  {
   "cell_type": "code",
   "execution_count": 24,
   "metadata": {},
   "outputs": [],
   "source": [
    "# import libraries\n",
    "import smart_open as so\n",
    "import boto3\n",
    "import pandas as pd\n",
    "from io import StringIO\n",
    "import selenium\n",
    "import ffmpeg\n",
    "# import pytesseract\n",
    "import zipfile\n",
    "\n",
    "# libraries for extracting colors\n",
    "import extcolors\n",
    "# from colormap import rgb2hex\n",
    "from matplotlib import pyplot as plt\n",
    "from PIL import Image\n",
    "import cv2\n",
    "import numpy as np\n",
    "# from sklearn.cluster import KMeans\n",
    "# import imutils"
   ]
  },
  {
   "cell_type": "code",
   "execution_count": 14,
   "metadata": {},
   "outputs": [],
   "source": [
    "# # add custom libraries\n",
    "# import sys\n",
    "# # from scripts.color_scripts import identify_color_composition, color_to_df\n",
    "# from .. import scripts.color_scripts"
   ]
  },
  {
   "cell_type": "code",
   "execution_count": 25,
   "metadata": {},
   "outputs": [],
   "source": [
    "bucket = \"10ac-batch-6\"\n",
    "key = \"data/w11/Challenge_Data.zip\"\n",
    "s3_resource = boto3.resource('s3')\n",
    "zip_obj = s3_resource.Object(bucket_name=bucket, key=key)"
   ]
  },
  {
   "cell_type": "code",
   "execution_count": 32,
   "metadata": {},
   "outputs": [],
   "source": [
    "# requesting a single file from the zip\n",
    "with so.open('s3://10ac-batch-6/data/w11/Challenge_Data.zip', 'rb') as file_data:\n",
    "    with zipfile.ZipFile(file_data) as z:\n",
    "        # or any other file instead of csv\n",
    "        with z.open('Challenge_Data/performance_data.csv') as zip_file_data:\n",
    "            csv_data = zip_file_data.read().decode(\"utf-8\")"
   ]
  },
  {
   "cell_type": "code",
   "execution_count": 29,
   "metadata": {},
   "outputs": [
    {
     "data": {
      "text/html": [
       "<div>\n",
       "<style scoped>\n",
       "    .dataframe tbody tr th:only-of-type {\n",
       "        vertical-align: middle;\n",
       "    }\n",
       "\n",
       "    .dataframe tbody tr th {\n",
       "        vertical-align: top;\n",
       "    }\n",
       "\n",
       "    .dataframe thead th {\n",
       "        text-align: right;\n",
       "    }\n",
       "</style>\n",
       "<table border=\"1\" class=\"dataframe\">\n",
       "  <thead>\n",
       "    <tr style=\"text-align: right;\">\n",
       "      <th></th>\n",
       "      <th>0</th>\n",
       "      <th>1</th>\n",
       "      <th>2</th>\n",
       "      <th>3</th>\n",
       "    </tr>\n",
       "  </thead>\n",
       "  <tbody>\n",
       "    <tr>\n",
       "      <th>0</th>\n",
       "      <td>game_id</td>\n",
       "      <td>preview_link</td>\n",
       "      <td>ER</td>\n",
       "      <td>CTR</td>\n",
       "    </tr>\n",
       "    <tr>\n",
       "      <th>1</th>\n",
       "      <td>bfbf7a2b7ac635e67877b1ab87fd6629</td>\n",
       "      <td>https://s3.us-east-1.amazonaws.com/a.futureadl...</td>\n",
       "      <td>0.2092687099914451</td>\n",
       "      <td>0.0584383020148086</td>\n",
       "    </tr>\n",
       "    <tr>\n",
       "      <th>2</th>\n",
       "      <td>945010afbf9a55bbdffcb0895f946155</td>\n",
       "      <td>https://s3.us-east-1.amazonaws.com/a.futureadl...</td>\n",
       "      <td>0.2745519713261649</td>\n",
       "      <td>0.0747311827956989</td>\n",
       "    </tr>\n",
       "    <tr>\n",
       "      <th>3</th>\n",
       "      <td>e68e20f592457b875ce29757ab855dfe</td>\n",
       "      <td>https://s3.us-east-1.amazonaws.com/a.futureadl...</td>\n",
       "      <td>0.1036884084375885</td>\n",
       "      <td>0.0422284303008218</td>\n",
       "    </tr>\n",
       "    <tr>\n",
       "      <th>4</th>\n",
       "      <td>adunit-nestle-purina-friskies-mob</td>\n",
       "      <td>https://s3.ap-southeast-1.amazonaws.com/a.futu...</td>\n",
       "      <td>0.1369626263001379</td>\n",
       "      <td>0.0053933765450966</td>\n",
       "    </tr>\n",
       "  </tbody>\n",
       "</table>\n",
       "</div>"
      ],
      "text/plain": [
       "                                   0  \\\n",
       "0                            game_id   \n",
       "1   bfbf7a2b7ac635e67877b1ab87fd6629   \n",
       "2   945010afbf9a55bbdffcb0895f946155   \n",
       "3   e68e20f592457b875ce29757ab855dfe   \n",
       "4  adunit-nestle-purina-friskies-mob   \n",
       "\n",
       "                                                   1                   2  \\\n",
       "0                                       preview_link                  ER   \n",
       "1  https://s3.us-east-1.amazonaws.com/a.futureadl...  0.2092687099914451   \n",
       "2  https://s3.us-east-1.amazonaws.com/a.futureadl...  0.2745519713261649   \n",
       "3  https://s3.us-east-1.amazonaws.com/a.futureadl...  0.1036884084375885   \n",
       "4  https://s3.ap-southeast-1.amazonaws.com/a.futu...  0.1369626263001379   \n",
       "\n",
       "                    3  \n",
       "0                 CTR  \n",
       "1  0.0584383020148086  \n",
       "2  0.0747311827956989  \n",
       "3  0.0422284303008218  \n",
       "4  0.0053933765450966  "
      ]
     },
     "execution_count": 29,
     "metadata": {},
     "output_type": "execute_result"
    }
   ],
   "source": [
    "csvStringIO = StringIO(csv_data)\n",
    "df = pd.read_csv(csvStringIO, sep=\",\", header=None)\n",
    "df.head()"
   ]
  },
  {
   "cell_type": "code",
   "execution_count": 34,
   "metadata": {},
   "outputs": [],
   "source": [
    "# utility functions to get the images from the creatives\n",
    "def get_image(image_path):\n",
    "    image = cv2.imread(image_path)\n",
    "    image = cv2.cvtColor(image, cv2.COLOR_BGR2RGB)\n",
    "    return image\n",
    "def RGB2HEX(color):\n",
    "    return \"#{:02x}{:02x}{:02x}\".format(int(color[0]), int(color[1]), int(color[2]))"
   ]
  },
  {
   "cell_type": "code",
   "execution_count": 35,
   "metadata": {},
   "outputs": [
    {
     "ename": "error",
     "evalue": "OpenCV(4.6.0) /io/opencv/modules/imgproc/src/color.cpp:182: error: (-215:Assertion failed) !_src.empty() in function 'cvtColor'\n",
     "output_type": "error",
     "traceback": [
      "\u001b[0;31m---------------------------------------------------------------------------\u001b[0m",
      "\u001b[0;31merror\u001b[0m                                     Traceback (most recent call last)",
      "Cell \u001b[0;32mIn [35], line 1\u001b[0m\n\u001b[0;32m----> 1\u001b[0m image \u001b[39m=\u001b[39m get_image(\u001b[39m\"\u001b[39;49m\u001b[39m/home/amanuel_zewdu/creative_image_optimization/data/Challenge_Data/Assets/0301a5865ecfd7c5a1653dde10a5aedf/\u001b[39;49m\u001b[39m\"\u001b[39;49m)\n\u001b[1;32m      2\u001b[0m number_of_colors \u001b[39m=\u001b[39m \u001b[39m5\u001b[39m\n\u001b[1;32m      3\u001b[0m modified_image \u001b[39m=\u001b[39m image\u001b[39m.\u001b[39mreshape(image\u001b[39m.\u001b[39mshape[\u001b[39m0\u001b[39m]\u001b[39m*\u001b[39mimage\u001b[39m.\u001b[39mshape[\u001b[39m1\u001b[39m], \u001b[39m3\u001b[39m)\n",
      "Cell \u001b[0;32mIn [34], line 4\u001b[0m, in \u001b[0;36mget_image\u001b[0;34m(image_path)\u001b[0m\n\u001b[1;32m      2\u001b[0m \u001b[39mdef\u001b[39;00m \u001b[39mget_image\u001b[39m(image_path):\n\u001b[1;32m      3\u001b[0m     image \u001b[39m=\u001b[39m cv2\u001b[39m.\u001b[39mimread(image_path)\n\u001b[0;32m----> 4\u001b[0m     image \u001b[39m=\u001b[39m cv2\u001b[39m.\u001b[39;49mcvtColor(image, cv2\u001b[39m.\u001b[39;49mCOLOR_BGR2RGB)\n\u001b[1;32m      5\u001b[0m     \u001b[39mreturn\u001b[39;00m image\n",
      "\u001b[0;31merror\u001b[0m: OpenCV(4.6.0) /io/opencv/modules/imgproc/src/color.cpp:182: error: (-215:Assertion failed) !_src.empty() in function 'cvtColor'\n"
     ]
    }
   ],
   "source": [
    "image = get_image(\"/home/amanuel_zewdu/creative_image_optimization/data/Challenge_Data/Assets/0301a5865ecfd7c5a1653dde10a5aedf/\")\n",
    "number_of_colors = 5\n",
    "modified_image = image.reshape(image.shape[0]*image.shape[1], 3)\n",
    "clf = KMeans(n_clusters = number_of_colors)\n",
    "labels = clf.fit_predict(modified_image)"
   ]
  },
  {
   "cell_type": "code",
   "execution_count": 33,
   "metadata": {},
   "outputs": [],
   "source": [
    "# read image\n",
    "im = cv2.imread(df[1])\n",
    "original_shape = im.shape\n",
    "print(im.shape)"
   ]
  },
  {
   "cell_type": "code",
   "execution_count": null,
   "metadata": {},
   "outputs": [],
   "source": [
    "# plot original image\n",
    "plt.figure(figsize = (20,10))\n",
    "plt.imshow(im)\n",
    "plt.show()"
   ]
  },
  {
   "cell_type": "code",
   "execution_count": null,
   "metadata": {},
   "outputs": [],
   "source": [
    "# flatten image into linear array\n",
    "all_pixels = im.reshape((-1,3))\n",
    "print(all_pixels.shape)"
   ]
  },
  {
   "cell_type": "code",
   "execution_count": null,
   "metadata": {},
   "outputs": [],
   "source": [
    "# setting up the clusters for kmeans clustering\n",
    "dominant_colors = 5\n",
    "km = KMeans(n_clusters = dominant_colors)\n",
    "(km.fit(all_pixels))"
   ]
  },
  {
   "cell_type": "code",
   "execution_count": null,
   "metadata": {},
   "outputs": [],
   "source": [
    "centers = km.cluster_centers_\n",
    "centers"
   ]
  },
  {
   "cell_type": "code",
   "execution_count": null,
   "metadata": {},
   "outputs": [],
   "source": [
    "centers = np.array(centers, dtype = \"uint8\")\n",
    "print(centers)"
   ]
  },
  {
   "cell_type": "code",
   "execution_count": null,
   "metadata": {},
   "outputs": [],
   "source": [
    "i = 1\n",
    "\n",
    "plt.figure(0, figsize = (8,2))\n",
    "\n",
    "colors = []\n",
    "for each_col in centers:\n",
    "    plt.subplot(1,5,i)\n",
    "    plt.axis(False)\n",
    "    i += 1\n",
    "    \n",
    "    colors.append(each_col)\n",
    "    \n",
    "    a = np.zeros((100,100,3), dtype = \"uint8\")\n",
    "    a[:,:,:] = each_col\n",
    "    plt.imshow(a)\n",
    "    \n",
    "plt.show()"
   ]
  },
  {
   "cell_type": "code",
   "execution_count": null,
   "metadata": {},
   "outputs": [],
   "source": [
    "new_img = np.zeros((936*1136,3), dtype = \"uint8\")\n",
    "\n",
    "print(new_img.shape)"
   ]
  },
  {
   "cell_type": "code",
   "execution_count": null,
   "metadata": {},
   "outputs": [],
   "source": [
    "colors"
   ]
  },
  {
   "cell_type": "code",
   "execution_count": null,
   "metadata": {},
   "outputs": [],
   "source": [
    "km.labels_"
   ]
  },
  {
   "cell_type": "code",
   "execution_count": null,
   "metadata": {},
   "outputs": [],
   "source": [
    "for ix in range(new_img.shape[0]):\n",
    "    new_img[ix] = colors[km.labels_[ix]]\n",
    "    \n",
    "new_img = new_img.reshape((original_shape))\n",
    "plt.imshow(new_img)\n",
    "plt.show(0)"
   ]
  },
  {
   "cell_type": "code",
   "execution_count": null,
   "metadata": {},
   "outputs": [],
   "source": []
  }
 ],
 "metadata": {
  "kernelspec": {
   "display_name": "Python 3.8.10 64-bit",
   "language": "python",
   "name": "python3"
  },
  "language_info": {
   "codemirror_mode": {
    "name": "ipython",
    "version": 3
   },
   "file_extension": ".py",
   "mimetype": "text/x-python",
   "name": "python",
   "nbconvert_exporter": "python",
   "pygments_lexer": "ipython3",
   "version": "3.8.10"
  },
  "orig_nbformat": 4,
  "vscode": {
   "interpreter": {
    "hash": "31f2aee4e71d21fbe5cf8b01ff0e069b9275f58929596ceb00d14d90e3e16cd6"
   }
  }
 },
 "nbformat": 4,
 "nbformat_minor": 2
}
